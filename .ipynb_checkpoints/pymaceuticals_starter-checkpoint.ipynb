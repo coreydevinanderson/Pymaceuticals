{
 "cells": [
  {
   "cell_type": "markdown",
   "metadata": {},
   "source": [
    "## Observations and Insights "
   ]
  },
  {
   "cell_type": "markdown",
   "metadata": {},
   "source": []
  },
  {
   "cell_type": "code",
   "execution_count": 1,
   "metadata": {},
   "outputs": [
    {
     "data": {
      "text/html": [
       "<div>\n",
       "<style scoped>\n",
       "    .dataframe tbody tr th:only-of-type {\n",
       "        vertical-align: middle;\n",
       "    }\n",
       "\n",
       "    .dataframe tbody tr th {\n",
       "        vertical-align: top;\n",
       "    }\n",
       "\n",
       "    .dataframe thead th {\n",
       "        text-align: right;\n",
       "    }\n",
       "</style>\n",
       "<table border=\"1\" class=\"dataframe\">\n",
       "  <thead>\n",
       "    <tr style=\"text-align: right;\">\n",
       "      <th></th>\n",
       "      <th>Mouse ID</th>\n",
       "      <th>Drug Regimen</th>\n",
       "      <th>Sex</th>\n",
       "      <th>Age_months</th>\n",
       "      <th>Weight (g)</th>\n",
       "      <th>Timepoint</th>\n",
       "      <th>Tumor Volume (mm3)</th>\n",
       "      <th>Metastatic Sites</th>\n",
       "    </tr>\n",
       "  </thead>\n",
       "  <tbody>\n",
       "    <tr>\n",
       "      <th>0</th>\n",
       "      <td>k403</td>\n",
       "      <td>Ramicane</td>\n",
       "      <td>Male</td>\n",
       "      <td>21</td>\n",
       "      <td>16</td>\n",
       "      <td>0</td>\n",
       "      <td>45.000000</td>\n",
       "      <td>0</td>\n",
       "    </tr>\n",
       "    <tr>\n",
       "      <th>1</th>\n",
       "      <td>k403</td>\n",
       "      <td>Ramicane</td>\n",
       "      <td>Male</td>\n",
       "      <td>21</td>\n",
       "      <td>16</td>\n",
       "      <td>5</td>\n",
       "      <td>38.825898</td>\n",
       "      <td>0</td>\n",
       "    </tr>\n",
       "    <tr>\n",
       "      <th>2</th>\n",
       "      <td>k403</td>\n",
       "      <td>Ramicane</td>\n",
       "      <td>Male</td>\n",
       "      <td>21</td>\n",
       "      <td>16</td>\n",
       "      <td>10</td>\n",
       "      <td>35.014271</td>\n",
       "      <td>1</td>\n",
       "    </tr>\n",
       "    <tr>\n",
       "      <th>3</th>\n",
       "      <td>k403</td>\n",
       "      <td>Ramicane</td>\n",
       "      <td>Male</td>\n",
       "      <td>21</td>\n",
       "      <td>16</td>\n",
       "      <td>15</td>\n",
       "      <td>34.223992</td>\n",
       "      <td>1</td>\n",
       "    </tr>\n",
       "    <tr>\n",
       "      <th>4</th>\n",
       "      <td>k403</td>\n",
       "      <td>Ramicane</td>\n",
       "      <td>Male</td>\n",
       "      <td>21</td>\n",
       "      <td>16</td>\n",
       "      <td>20</td>\n",
       "      <td>32.997729</td>\n",
       "      <td>1</td>\n",
       "    </tr>\n",
       "    <tr>\n",
       "      <th>5</th>\n",
       "      <td>k403</td>\n",
       "      <td>Ramicane</td>\n",
       "      <td>Male</td>\n",
       "      <td>21</td>\n",
       "      <td>16</td>\n",
       "      <td>25</td>\n",
       "      <td>33.464577</td>\n",
       "      <td>1</td>\n",
       "    </tr>\n",
       "    <tr>\n",
       "      <th>6</th>\n",
       "      <td>k403</td>\n",
       "      <td>Ramicane</td>\n",
       "      <td>Male</td>\n",
       "      <td>21</td>\n",
       "      <td>16</td>\n",
       "      <td>30</td>\n",
       "      <td>31.099498</td>\n",
       "      <td>1</td>\n",
       "    </tr>\n",
       "    <tr>\n",
       "      <th>7</th>\n",
       "      <td>k403</td>\n",
       "      <td>Ramicane</td>\n",
       "      <td>Male</td>\n",
       "      <td>21</td>\n",
       "      <td>16</td>\n",
       "      <td>35</td>\n",
       "      <td>26.546993</td>\n",
       "      <td>1</td>\n",
       "    </tr>\n",
       "    <tr>\n",
       "      <th>8</th>\n",
       "      <td>k403</td>\n",
       "      <td>Ramicane</td>\n",
       "      <td>Male</td>\n",
       "      <td>21</td>\n",
       "      <td>16</td>\n",
       "      <td>40</td>\n",
       "      <td>24.365505</td>\n",
       "      <td>1</td>\n",
       "    </tr>\n",
       "    <tr>\n",
       "      <th>9</th>\n",
       "      <td>k403</td>\n",
       "      <td>Ramicane</td>\n",
       "      <td>Male</td>\n",
       "      <td>21</td>\n",
       "      <td>16</td>\n",
       "      <td>45</td>\n",
       "      <td>22.050126</td>\n",
       "      <td>1</td>\n",
       "    </tr>\n",
       "  </tbody>\n",
       "</table>\n",
       "</div>"
      ],
      "text/plain": [
       "  Mouse ID Drug Regimen   Sex  Age_months  Weight (g)  Timepoint  \\\n",
       "0     k403     Ramicane  Male          21          16          0   \n",
       "1     k403     Ramicane  Male          21          16          5   \n",
       "2     k403     Ramicane  Male          21          16         10   \n",
       "3     k403     Ramicane  Male          21          16         15   \n",
       "4     k403     Ramicane  Male          21          16         20   \n",
       "5     k403     Ramicane  Male          21          16         25   \n",
       "6     k403     Ramicane  Male          21          16         30   \n",
       "7     k403     Ramicane  Male          21          16         35   \n",
       "8     k403     Ramicane  Male          21          16         40   \n",
       "9     k403     Ramicane  Male          21          16         45   \n",
       "\n",
       "   Tumor Volume (mm3)  Metastatic Sites  \n",
       "0           45.000000                 0  \n",
       "1           38.825898                 0  \n",
       "2           35.014271                 1  \n",
       "3           34.223992                 1  \n",
       "4           32.997729                 1  \n",
       "5           33.464577                 1  \n",
       "6           31.099498                 1  \n",
       "7           26.546993                 1  \n",
       "8           24.365505                 1  \n",
       "9           22.050126                 1  "
      ]
     },
     "execution_count": 1,
     "metadata": {},
     "output_type": "execute_result"
    }
   ],
   "source": [
    "# Dependencies and Setup\n",
    "import matplotlib.pyplot as plt\n",
    "import pandas as pd\n",
    "import numpy as np\n",
    "import scipy.stats as st\n",
    "\n",
    "# Study data files\n",
    "mouse_metadata_path = \"data/Mouse_metadata.csv\"\n",
    "study_results_path = \"data/Study_results.csv\"\n",
    "\n",
    "# Read the mouse data and the study results\n",
    "mouse_metadata = pd.read_csv(mouse_metadata_path)\n",
    "study_results = pd.read_csv(study_results_path)\n",
    "\n",
    "# Combine the data into a single dataset\n",
    "mice_merge = pd.merge(mouse_metadata, study_results, on = \"Mouse ID\")\n",
    "\n",
    "# Display the data table for preview\n",
    "mice_merge.head(10)"
   ]
  },
  {
   "cell_type": "code",
   "execution_count": 2,
   "metadata": {},
   "outputs": [
    {
     "data": {
      "text/plain": [
       "['Mouse ID',\n",
       " 'Drug Regimen',\n",
       " 'Sex',\n",
       " 'Age_months',\n",
       " 'Weight (g)',\n",
       " 'Timepoint',\n",
       " 'Tumor Volume (mm3)',\n",
       " 'Metastatic Sites']"
      ]
     },
     "execution_count": 2,
     "metadata": {},
     "output_type": "execute_result"
    }
   ],
   "source": [
    "# List of column names\n",
    "mice_merge.columns.to_list()"
   ]
  },
  {
   "cell_type": "code",
   "execution_count": 3,
   "metadata": {},
   "outputs": [
    {
     "name": "stdout",
     "output_type": "stream",
     "text": [
      "Number of unique mice: 249\n",
      "Number of rows in DataFrame: 1893\n"
     ]
    }
   ],
   "source": [
    "# Checking the number of mice.\n",
    "print(\"Number of unique mice: \" + str(len(mice_merge[\"Mouse ID\"].value_counts())))\n",
    "\n",
    "\n",
    "# Total number of rows (including duplicates)\n",
    "print(\"Number of rows in DataFrame: \" + str(len(mice_merge)))"
   ]
  },
  {
   "cell_type": "code",
   "execution_count": 4,
   "metadata": {},
   "outputs": [
    {
     "name": "stdout",
     "output_type": "stream",
     "text": [
      "g989\n"
     ]
    }
   ],
   "source": [
    "# Getting the duplicate mice by ID number that shows up for Mouse ID and Timepoint. \n",
    "test = mice_merge[mice_merge.duplicated()].duplicated()\n",
    "duplicated_ID = test.index.to_list()\n",
    "bad_mouse_ID = mice_merge.loc[duplicated_ID[0], 'Mouse ID']\n",
    "print(bad_mouse_ID)"
   ]
  },
  {
   "cell_type": "code",
   "execution_count": 5,
   "metadata": {},
   "outputs": [
    {
     "data": {
      "text/html": [
       "<div>\n",
       "<style scoped>\n",
       "    .dataframe tbody tr th:only-of-type {\n",
       "        vertical-align: middle;\n",
       "    }\n",
       "\n",
       "    .dataframe tbody tr th {\n",
       "        vertical-align: top;\n",
       "    }\n",
       "\n",
       "    .dataframe thead th {\n",
       "        text-align: right;\n",
       "    }\n",
       "</style>\n",
       "<table border=\"1\" class=\"dataframe\">\n",
       "  <thead>\n",
       "    <tr style=\"text-align: right;\">\n",
       "      <th></th>\n",
       "      <th>Mouse ID</th>\n",
       "      <th>Drug Regimen</th>\n",
       "      <th>Sex</th>\n",
       "      <th>Age_months</th>\n",
       "      <th>Weight (g)</th>\n",
       "      <th>Timepoint</th>\n",
       "      <th>Tumor Volume (mm3)</th>\n",
       "      <th>Metastatic Sites</th>\n",
       "    </tr>\n",
       "  </thead>\n",
       "  <tbody>\n",
       "    <tr>\n",
       "      <th>909</th>\n",
       "      <td>g989</td>\n",
       "      <td>Propriva</td>\n",
       "      <td>Female</td>\n",
       "      <td>21</td>\n",
       "      <td>26</td>\n",
       "      <td>0</td>\n",
       "      <td>45.0</td>\n",
       "      <td>0</td>\n",
       "    </tr>\n",
       "  </tbody>\n",
       "</table>\n",
       "</div>"
      ],
      "text/plain": [
       "    Mouse ID Drug Regimen     Sex  Age_months  Weight (g)  Timepoint  \\\n",
       "909     g989     Propriva  Female          21          26          0   \n",
       "\n",
       "     Tumor Volume (mm3)  Metastatic Sites  \n",
       "909                45.0                 0  "
      ]
     },
     "execution_count": 5,
     "metadata": {},
     "output_type": "execute_result"
    }
   ],
   "source": [
    "# Optional: Get all the data for the duplicate mouse ID. \n",
    "mice_merge[mice_merge.duplicated()]"
   ]
  },
  {
   "cell_type": "code",
   "execution_count": 6,
   "metadata": {},
   "outputs": [],
   "source": [
    "# Create a clean DataFrame by dropping the duplicate mouse by its ID.\n",
    "mice_merge_cleaned = mice_merge[mice_merge[\"Mouse ID\"] != bad_mouse_ID]"
   ]
  },
  {
   "cell_type": "code",
   "execution_count": 7,
   "metadata": {},
   "outputs": [
    {
     "data": {
      "text/plain": [
       "1880"
      ]
     },
     "execution_count": 7,
     "metadata": {},
     "output_type": "execute_result"
    }
   ],
   "source": [
    "# Checking the number of mice in the clean DataFrame.\n",
    "len(mice_merge_cleaned)"
   ]
  },
  {
   "cell_type": "markdown",
   "metadata": {},
   "source": [
    "## Summary Statistics"
   ]
  },
  {
   "cell_type": "code",
   "execution_count": 8,
   "metadata": {},
   "outputs": [],
   "source": [
    "# Generate a summary statistics table of mean, median, variance, standard deviation, and SEM of the tumor volume for each regimen\n",
    "\n",
    "# Use groupby and summary statistical methods to calculate the following properties of each drug regimen: \n",
    "# mean, median, variance, standard deviation, and SEM of the tumor volume. \n",
    "# Assemble the resulting series into a single summary dataframe.\n",
    "\n",
    "#-----------#\n",
    "\n",
    "# I am limiting the summary statistics to the last timepoint recorded for each mouse!\n",
    "\n",
    "mice_merge_maxtp = mice_merge_cleaned.loc[mice_merge_cleaned.groupby(\"Mouse ID\")[\"Timepoint\"].idxmax()]\n",
    "mice_merge_groupby = mice_merge_maxtp.groupby(\"Drug Regimen\")\n",
    "\n",
    "TV_mean = mice_merge_groupby[\"Tumor Volume (mm3)\"].mean()\n",
    "TV_median = mice_merge_groupby[\"Tumor Volume (mm3)\"].median()\n",
    "TV_var = mice_merge_groupby[\"Tumor Volume (mm3)\"].var()\n",
    "TV_std = mice_merge_groupby[\"Tumor Volume (mm3)\"].std()\n",
    "TV_sem = mice_merge_groupby[\"Tumor Volume (mm3)\"].sem()\n",
    "\n",
    "summary_df = pd.DataFrame({\"Mean\":TV_mean, \n",
    "                           \"Median\":TV_median, \n",
    "                           \"Variance\":TV_var, \n",
    "                           \"Standard_Deviation\":TV_std,\n",
    "                           \"Standard_Error\":TV_sem})"
   ]
  },
  {
   "cell_type": "code",
   "execution_count": 9,
   "metadata": {},
   "outputs": [
    {
     "data": {
      "text/html": [
       "<div>\n",
       "<style scoped>\n",
       "    .dataframe tbody tr th:only-of-type {\n",
       "        vertical-align: middle;\n",
       "    }\n",
       "\n",
       "    .dataframe tbody tr th {\n",
       "        vertical-align: top;\n",
       "    }\n",
       "\n",
       "    .dataframe thead th {\n",
       "        text-align: right;\n",
       "    }\n",
       "</style>\n",
       "<table border=\"1\" class=\"dataframe\">\n",
       "  <thead>\n",
       "    <tr style=\"text-align: right;\">\n",
       "      <th></th>\n",
       "      <th>Mean</th>\n",
       "      <th>Median</th>\n",
       "      <th>Variance</th>\n",
       "      <th>Standard_Deviation</th>\n",
       "      <th>Standard_Error</th>\n",
       "    </tr>\n",
       "    <tr>\n",
       "      <th>Drug Regimen</th>\n",
       "      <th></th>\n",
       "      <th></th>\n",
       "      <th></th>\n",
       "      <th></th>\n",
       "      <th></th>\n",
       "    </tr>\n",
       "  </thead>\n",
       "  <tbody>\n",
       "    <tr>\n",
       "      <th>Capomulin</th>\n",
       "      <td>36.667568</td>\n",
       "      <td>38.125164</td>\n",
       "      <td>32.663378</td>\n",
       "      <td>5.715188</td>\n",
       "      <td>1.143038</td>\n",
       "    </tr>\n",
       "    <tr>\n",
       "      <th>Ceftamin</th>\n",
       "      <td>57.753977</td>\n",
       "      <td>59.851956</td>\n",
       "      <td>69.982735</td>\n",
       "      <td>8.365568</td>\n",
       "      <td>1.673114</td>\n",
       "    </tr>\n",
       "    <tr>\n",
       "      <th>Infubinol</th>\n",
       "      <td>58.178246</td>\n",
       "      <td>60.165180</td>\n",
       "      <td>74.010875</td>\n",
       "      <td>8.602957</td>\n",
       "      <td>1.720591</td>\n",
       "    </tr>\n",
       "    <tr>\n",
       "      <th>Ketapril</th>\n",
       "      <td>62.806191</td>\n",
       "      <td>64.487812</td>\n",
       "      <td>98.921330</td>\n",
       "      <td>9.945920</td>\n",
       "      <td>1.989184</td>\n",
       "    </tr>\n",
       "    <tr>\n",
       "      <th>Naftisol</th>\n",
       "      <td>61.205757</td>\n",
       "      <td>63.283288</td>\n",
       "      <td>106.029927</td>\n",
       "      <td>10.297083</td>\n",
       "      <td>2.059417</td>\n",
       "    </tr>\n",
       "    <tr>\n",
       "      <th>Placebo</th>\n",
       "      <td>60.508414</td>\n",
       "      <td>62.030594</td>\n",
       "      <td>78.759797</td>\n",
       "      <td>8.874672</td>\n",
       "      <td>1.774934</td>\n",
       "    </tr>\n",
       "    <tr>\n",
       "      <th>Propriva</th>\n",
       "      <td>56.493884</td>\n",
       "      <td>55.591622</td>\n",
       "      <td>70.822755</td>\n",
       "      <td>8.415626</td>\n",
       "      <td>1.717832</td>\n",
       "    </tr>\n",
       "    <tr>\n",
       "      <th>Ramicane</th>\n",
       "      <td>36.191390</td>\n",
       "      <td>36.561652</td>\n",
       "      <td>32.166354</td>\n",
       "      <td>5.671539</td>\n",
       "      <td>1.134308</td>\n",
       "    </tr>\n",
       "    <tr>\n",
       "      <th>Stelasyn</th>\n",
       "      <td>61.001707</td>\n",
       "      <td>62.192350</td>\n",
       "      <td>90.331586</td>\n",
       "      <td>9.504293</td>\n",
       "      <td>1.940056</td>\n",
       "    </tr>\n",
       "    <tr>\n",
       "      <th>Zoniferol</th>\n",
       "      <td>59.181258</td>\n",
       "      <td>61.840058</td>\n",
       "      <td>76.862027</td>\n",
       "      <td>8.767099</td>\n",
       "      <td>1.753420</td>\n",
       "    </tr>\n",
       "  </tbody>\n",
       "</table>\n",
       "</div>"
      ],
      "text/plain": [
       "                   Mean     Median    Variance  Standard_Deviation  \\\n",
       "Drug Regimen                                                         \n",
       "Capomulin     36.667568  38.125164   32.663378            5.715188   \n",
       "Ceftamin      57.753977  59.851956   69.982735            8.365568   \n",
       "Infubinol     58.178246  60.165180   74.010875            8.602957   \n",
       "Ketapril      62.806191  64.487812   98.921330            9.945920   \n",
       "Naftisol      61.205757  63.283288  106.029927           10.297083   \n",
       "Placebo       60.508414  62.030594   78.759797            8.874672   \n",
       "Propriva      56.493884  55.591622   70.822755            8.415626   \n",
       "Ramicane      36.191390  36.561652   32.166354            5.671539   \n",
       "Stelasyn      61.001707  62.192350   90.331586            9.504293   \n",
       "Zoniferol     59.181258  61.840058   76.862027            8.767099   \n",
       "\n",
       "              Standard_Error  \n",
       "Drug Regimen                  \n",
       "Capomulin           1.143038  \n",
       "Ceftamin            1.673114  \n",
       "Infubinol           1.720591  \n",
       "Ketapril            1.989184  \n",
       "Naftisol            2.059417  \n",
       "Placebo             1.774934  \n",
       "Propriva            1.717832  \n",
       "Ramicane            1.134308  \n",
       "Stelasyn            1.940056  \n",
       "Zoniferol           1.753420  "
      ]
     },
     "metadata": {},
     "output_type": "display_data"
    },
    {
     "data": {
      "text/html": [
       "<div>\n",
       "<style scoped>\n",
       "    .dataframe tbody tr th:only-of-type {\n",
       "        vertical-align: middle;\n",
       "    }\n",
       "\n",
       "    .dataframe tbody tr th {\n",
       "        vertical-align: top;\n",
       "    }\n",
       "\n",
       "    .dataframe thead th {\n",
       "        text-align: right;\n",
       "    }\n",
       "</style>\n",
       "<table border=\"1\" class=\"dataframe\">\n",
       "  <thead>\n",
       "    <tr style=\"text-align: right;\">\n",
       "      <th></th>\n",
       "      <th>Mean</th>\n",
       "      <th>Median</th>\n",
       "      <th>Variance</th>\n",
       "      <th>Standard_Deviation</th>\n",
       "      <th>Standard_Error</th>\n",
       "    </tr>\n",
       "    <tr>\n",
       "      <th>Drug Regimen</th>\n",
       "      <th></th>\n",
       "      <th></th>\n",
       "      <th></th>\n",
       "      <th></th>\n",
       "      <th></th>\n",
       "    </tr>\n",
       "  </thead>\n",
       "  <tbody>\n",
       "    <tr>\n",
       "      <th>Capomulin</th>\n",
       "      <td>36.667568</td>\n",
       "      <td>38.125164</td>\n",
       "      <td>32.663378</td>\n",
       "      <td>5.715188</td>\n",
       "      <td>1.143038</td>\n",
       "    </tr>\n",
       "    <tr>\n",
       "      <th>Ceftamin</th>\n",
       "      <td>57.753977</td>\n",
       "      <td>59.851956</td>\n",
       "      <td>69.982735</td>\n",
       "      <td>8.365568</td>\n",
       "      <td>1.673114</td>\n",
       "    </tr>\n",
       "    <tr>\n",
       "      <th>Infubinol</th>\n",
       "      <td>58.178246</td>\n",
       "      <td>60.165180</td>\n",
       "      <td>74.010875</td>\n",
       "      <td>8.602957</td>\n",
       "      <td>1.720591</td>\n",
       "    </tr>\n",
       "    <tr>\n",
       "      <th>Ketapril</th>\n",
       "      <td>62.806191</td>\n",
       "      <td>64.487812</td>\n",
       "      <td>98.921330</td>\n",
       "      <td>9.945920</td>\n",
       "      <td>1.989184</td>\n",
       "    </tr>\n",
       "    <tr>\n",
       "      <th>Naftisol</th>\n",
       "      <td>61.205757</td>\n",
       "      <td>63.283288</td>\n",
       "      <td>106.029927</td>\n",
       "      <td>10.297083</td>\n",
       "      <td>2.059417</td>\n",
       "    </tr>\n",
       "    <tr>\n",
       "      <th>Placebo</th>\n",
       "      <td>60.508414</td>\n",
       "      <td>62.030594</td>\n",
       "      <td>78.759797</td>\n",
       "      <td>8.874672</td>\n",
       "      <td>1.774934</td>\n",
       "    </tr>\n",
       "    <tr>\n",
       "      <th>Propriva</th>\n",
       "      <td>56.493884</td>\n",
       "      <td>55.591622</td>\n",
       "      <td>70.822755</td>\n",
       "      <td>8.415626</td>\n",
       "      <td>1.717832</td>\n",
       "    </tr>\n",
       "    <tr>\n",
       "      <th>Ramicane</th>\n",
       "      <td>36.191390</td>\n",
       "      <td>36.561652</td>\n",
       "      <td>32.166354</td>\n",
       "      <td>5.671539</td>\n",
       "      <td>1.134308</td>\n",
       "    </tr>\n",
       "    <tr>\n",
       "      <th>Stelasyn</th>\n",
       "      <td>61.001707</td>\n",
       "      <td>62.192350</td>\n",
       "      <td>90.331586</td>\n",
       "      <td>9.504293</td>\n",
       "      <td>1.940056</td>\n",
       "    </tr>\n",
       "    <tr>\n",
       "      <th>Zoniferol</th>\n",
       "      <td>59.181258</td>\n",
       "      <td>61.840058</td>\n",
       "      <td>76.862027</td>\n",
       "      <td>8.767099</td>\n",
       "      <td>1.753420</td>\n",
       "    </tr>\n",
       "  </tbody>\n",
       "</table>\n",
       "</div>"
      ],
      "text/plain": [
       "                   Mean     Median    Variance  Standard_Deviation  \\\n",
       "Drug Regimen                                                         \n",
       "Capomulin     36.667568  38.125164   32.663378            5.715188   \n",
       "Ceftamin      57.753977  59.851956   69.982735            8.365568   \n",
       "Infubinol     58.178246  60.165180   74.010875            8.602957   \n",
       "Ketapril      62.806191  64.487812   98.921330            9.945920   \n",
       "Naftisol      61.205757  63.283288  106.029927           10.297083   \n",
       "Placebo       60.508414  62.030594   78.759797            8.874672   \n",
       "Propriva      56.493884  55.591622   70.822755            8.415626   \n",
       "Ramicane      36.191390  36.561652   32.166354            5.671539   \n",
       "Stelasyn      61.001707  62.192350   90.331586            9.504293   \n",
       "Zoniferol     59.181258  61.840058   76.862027            8.767099   \n",
       "\n",
       "              Standard_Error  \n",
       "Drug Regimen                  \n",
       "Capomulin           1.143038  \n",
       "Ceftamin            1.673114  \n",
       "Infubinol           1.720591  \n",
       "Ketapril            1.989184  \n",
       "Naftisol            2.059417  \n",
       "Placebo             1.774934  \n",
       "Propriva            1.717832  \n",
       "Ramicane            1.134308  \n",
       "Stelasyn            1.940056  \n",
       "Zoniferol           1.753420  "
      ]
     },
     "execution_count": 9,
     "metadata": {},
     "output_type": "execute_result"
    }
   ],
   "source": [
    "# Generate a summary statistics table of mean, median, variance, standard deviation, and SEM of the tumor volume for each regimen\n",
    "\n",
    "display(summary_df)\n",
    "\n",
    "# Using the aggregation method, produce the same summary statistics in a single line\n",
    "\n",
    "mice_merge_maxtp.groupby(\"Drug Regimen\").agg(\n",
    "                                              Mean = (\"Tumor Volume (mm3)\", 'mean'), \n",
    "                                              Median = (\"Tumor Volume (mm3)\", 'median'),\n",
    "                                              Variance = (\"Tumor Volume (mm3)\", 'var'),\n",
    "                                              Standard_Deviation = (\"Tumor Volume (mm3)\", 'std'),\n",
    "                                              Standard_Error = (\"Tumor Volume (mm3)\", 'sem')\n",
    "                                             )"
   ]
  },
  {
   "cell_type": "markdown",
   "metadata": {},
   "source": [
    "## Bar and Pie Charts"
   ]
  },
  {
   "cell_type": "code",
   "execution_count": 10,
   "metadata": {},
   "outputs": [
    {
     "data": {
      "image/png": "[encoded data removed]",
      "text/plain": [
       "<Figure size 432x288 with 1 Axes>"
      ]
     },
     "metadata": {
      "needs_background": "light"
     },
     "output_type": "display_data"
    }
   ],
   "source": [
    "# Generate a bar plot showing the total number of measurements taken on each drug regimen using pandas.\n",
    "\n",
    "measures_per_mouse = mice_merge_cleaned.groupby([\"Drug Regimen\", \"Mouse ID\"]).count()\n",
    "measures_per_drug = measures_per_mouse.groupby(\"Drug Regimen\").sum()\n",
    "measures_per_drug_sorted = measures_per_drug.sort_values(\"Sex\", ascending = False)\n",
    "\n",
    "drug_measurements_bar = measures_per_drug_sorted[\"Sex\"].plot(kind = \"bar\")\n",
    "drug_measurements_bar.set_ylabel(\"Total Measurements\")\n",
    "plt.show()"
   ]
  },
  {
   "cell_type": "code",
   "execution_count": 11,
   "metadata": {},
   "outputs": [
    {
     "data": {
      "image/png": "[encoded data removed]",
      "text/plain": [
       "<Figure size 432x288 with 1 Axes>"
      ]
     },
     "metadata": {
      "needs_background": "light"
     },
     "output_type": "display_data"
    }
   ],
   "source": [
    "# Generate a bar plot showing the total number of measurements taken on each drug regimen using pyplot.\n",
    "\n",
    "drugs = measures_per_drug_sorted.index.to_list()\n",
    "counts = measures_per_drug_sorted[\"Sex\"].to_list()\n",
    "\n",
    "\n",
    "x_axis = np.arange(len(drugs))\n",
    "tick_locations = [value for value in x_axis]\n",
    "\n",
    "plt.bar(x_axis, counts)\n",
    "plt.xticks(tick_locations, labels = drugs, rotation = \"vertical\")\n",
    "plt.xlabel(\"Drug Regimen\")\n",
    "plt.ylabel(\"Total Measurements\")\n",
    "plt.show()"
   ]
  },
  {
   "cell_type": "code",
   "execution_count": 12,
   "metadata": {},
   "outputs": [
    {
     "data": {
      "image/png": "[encoded data removed]",
      "text/plain": [
       "<Figure size 432x288 with 1 Axes>"
      ]
     },
     "metadata": {},
     "output_type": "display_data"
    }
   ],
   "source": [
    "# Generate a pie plot showing the distribution of female versus male mice using pandas\n",
    "\n",
    "#-----------#\n",
    "\n",
    "# These pie charts show the number of unique male and female mice, not the total measures taken on each.\n",
    "\n",
    "mice_unique = mice_merge_cleaned.drop_duplicates(\"Mouse ID\")\n",
    "mice_sex = mice_unique[\"Sex\"].value_counts()\n",
    "\n",
    "sex_pie = mice_sex.plot(kind = \"pie\", \n",
    "                        colors = [\"lightblue\", \"pink\"], \n",
    "                        textprops = {'fontsize':14},\n",
    "                        shadow = True,\n",
    "                        autopct = \"%1.1f%%\")\n",
    "\n",
    "plt.ylabel(\"Sex\", fontsize = 14)\n",
    "plt.show()"
   ]
  },
  {
   "cell_type": "code",
   "execution_count": 13,
   "metadata": {},
   "outputs": [
    {
     "data": {
      "image/png": "[encoded data removed]",
      "text/plain": [
       "<Figure size 432x288 with 1 Axes>"
      ]
     },
     "metadata": {},
     "output_type": "display_data"
    }
   ],
   "source": [
    "# Generate a pie plot showing the distribution of female versus male mice using pyplot\n",
    "\n",
    "mice_sex_counts = mice_sex.to_list()\n",
    "sex_labels = mice_sex.index.to_list()\n",
    "\n",
    "plt.pie(mice_sex_counts, labels = sex_labels, \n",
    "                                  colors = [\"lightblue\", \"pink\"],\n",
    "                                  shadow = True,\n",
    "                                  textprops = {'fontsize':14},\n",
    "                                  autopct = \"%1.1f%%\")\n",
    "\n",
    "plt.ylabel(\"Sex\", fontsize = 14)\n",
    "\n",
    "plt.show()\n"
   ]
  },
  {
   "cell_type": "markdown",
   "metadata": {},
   "source": [
    "## Quartiles, Outliers and Boxplots"
   ]
  },
  {
   "cell_type": "code",
   "execution_count": 14,
   "metadata": {},
   "outputs": [
    {
     "data": {
      "text/html": [
       "<div>\n",
       "<style scoped>\n",
       "    .dataframe tbody tr th:only-of-type {\n",
       "        vertical-align: middle;\n",
       "    }\n",
       "\n",
       "    .dataframe tbody tr th {\n",
       "        vertical-align: top;\n",
       "    }\n",
       "\n",
       "    .dataframe thead th {\n",
       "        text-align: right;\n",
       "    }\n",
       "</style>\n",
       "<table border=\"1\" class=\"dataframe\">\n",
       "  <thead>\n",
       "    <tr style=\"text-align: right;\">\n",
       "      <th></th>\n",
       "      <th>Mouse ID</th>\n",
       "      <th>Drug Regimen</th>\n",
       "      <th>Sex</th>\n",
       "      <th>Age_months</th>\n",
       "      <th>Weight (g)</th>\n",
       "      <th>Timepoint</th>\n",
       "      <th>Tumor Volume (mm3)</th>\n",
       "      <th>Metastatic Sites</th>\n",
       "    </tr>\n",
       "  </thead>\n",
       "  <tbody>\n",
       "    <tr>\n",
       "      <th>463</th>\n",
       "      <td>a203</td>\n",
       "      <td>Infubinol</td>\n",
       "      <td>Female</td>\n",
       "      <td>20</td>\n",
       "      <td>23</td>\n",
       "      <td>45</td>\n",
       "      <td>67.973419</td>\n",
       "      <td>2</td>\n",
       "    </tr>\n",
       "    <tr>\n",
       "      <th>473</th>\n",
       "      <td>a251</td>\n",
       "      <td>Infubinol</td>\n",
       "      <td>Female</td>\n",
       "      <td>21</td>\n",
       "      <td>25</td>\n",
       "      <td>45</td>\n",
       "      <td>65.525743</td>\n",
       "      <td>1</td>\n",
       "    </tr>\n",
       "    <tr>\n",
       "      <th>493</th>\n",
       "      <td>a275</td>\n",
       "      <td>Ceftamin</td>\n",
       "      <td>Female</td>\n",
       "      <td>20</td>\n",
       "      <td>28</td>\n",
       "      <td>45</td>\n",
       "      <td>62.999356</td>\n",
       "      <td>3</td>\n",
       "    </tr>\n",
       "    <tr>\n",
       "      <th>327</th>\n",
       "      <td>a411</td>\n",
       "      <td>Ramicane</td>\n",
       "      <td>Male</td>\n",
       "      <td>3</td>\n",
       "      <td>22</td>\n",
       "      <td>45</td>\n",
       "      <td>38.407618</td>\n",
       "      <td>1</td>\n",
       "    </tr>\n",
       "    <tr>\n",
       "      <th>430</th>\n",
       "      <td>a444</td>\n",
       "      <td>Ramicane</td>\n",
       "      <td>Female</td>\n",
       "      <td>10</td>\n",
       "      <td>25</td>\n",
       "      <td>45</td>\n",
       "      <td>43.047543</td>\n",
       "      <td>0</td>\n",
       "    </tr>\n",
       "  </tbody>\n",
       "</table>\n",
       "</div>"
      ],
      "text/plain": [
       "    Mouse ID Drug Regimen     Sex  Age_months  Weight (g)  Timepoint  \\\n",
       "463     a203    Infubinol  Female          20          23         45   \n",
       "473     a251    Infubinol  Female          21          25         45   \n",
       "493     a275     Ceftamin  Female          20          28         45   \n",
       "327     a411     Ramicane    Male           3          22         45   \n",
       "430     a444     Ramicane  Female          10          25         45   \n",
       "\n",
       "     Tumor Volume (mm3)  Metastatic Sites  \n",
       "463           67.973419                 2  \n",
       "473           65.525743                 1  \n",
       "493           62.999356                 3  \n",
       "327           38.407618                 1  \n",
       "430           43.047543                 0  "
      ]
     },
     "execution_count": 14,
     "metadata": {},
     "output_type": "execute_result"
    }
   ],
   "source": [
    "# Calculate the final tumor volume of each mouse across four of the treatment regimens:  \n",
    "# Capomulin, Ramicane, Infubinol, and Ceftamin\n",
    "\n",
    "# Start by getting the last (greatest) timepoint for each mouse\n",
    "# Merge this group df with the original dataframe to get the tumor volume at the last timepoint\n",
    "\n",
    "mice_merge_maxtp = mice_merge_cleaned.loc[mice_merge_cleaned.groupby(\"Mouse ID\")[\"Timepoint\"].idxmax()]\n",
    "\n",
    "mice_merge_maxtp_culled = mice_merge_maxtp.loc[(mice_merge_maxtp[\"Drug Regimen\"] == \"Capomulin\") |\n",
    "                                                   (mice_merge_maxtp[\"Drug Regimen\"] == \"Ramicane\") |\n",
    "                                                   (mice_merge_maxtp[\"Drug Regimen\"] == \"Infubinol\") |\n",
    "                                                   (mice_merge_maxtp[\"Drug Regimen\"] == \"Ceftamin\"), :]\n",
    "\n",
    "mice_merge_maxtp_culled.head()"
   ]
  },
  {
   "cell_type": "code",
   "execution_count": 15,
   "metadata": {},
   "outputs": [
    {
     "name": "stdout",
     "output_type": "stream",
     "text": [
      "Capomulin\n",
      "The median is: 38.13.\n",
      "The IQR is: 7.78\n",
      "The upper threshold for an outlier is: 51.83.\n",
      "The lower threshold for an outlier is: 20.7.\n",
      "There are no outliers\n",
      "\n",
      "Ramicane\n",
      "The median is: 36.56.\n",
      "The IQR is: 9.1\n",
      "The upper threshold for an outlier is: 54.31.\n",
      "The lower threshold for an outlier is: 17.91.\n",
      "There are no outliers\n",
      "\n",
      "Infubinol\n",
      "The median is: 60.17.\n",
      "The IQR is: 11.48\n",
      "The upper threshold for an outlier is: 82.74.\n",
      "The lower threshold for an outlier is: 36.83.\n",
      "Number of outliers: 1\n",
      "\n"
     ]
    },
    {
     "data": {
      "text/html": [
       "<div>\n",
       "<style scoped>\n",
       "    .dataframe tbody tr th:only-of-type {\n",
       "        vertical-align: middle;\n",
       "    }\n",
       "\n",
       "    .dataframe tbody tr th {\n",
       "        vertical-align: top;\n",
       "    }\n",
       "\n",
       "    .dataframe thead th {\n",
       "        text-align: right;\n",
       "    }\n",
       "</style>\n",
       "<table border=\"1\" class=\"dataframe\">\n",
       "  <thead>\n",
       "    <tr style=\"text-align: right;\">\n",
       "      <th></th>\n",
       "      <th>Mouse ID</th>\n",
       "      <th>Drug Regimen</th>\n",
       "      <th>Sex</th>\n",
       "      <th>Age_months</th>\n",
       "      <th>Weight (g)</th>\n",
       "      <th>Timepoint</th>\n",
       "      <th>Tumor Volume (mm3)</th>\n",
       "      <th>Metastatic Sites</th>\n",
       "    </tr>\n",
       "  </thead>\n",
       "  <tbody>\n",
       "    <tr>\n",
       "      <th>669</th>\n",
       "      <td>c326</td>\n",
       "      <td>Infubinol</td>\n",
       "      <td>Female</td>\n",
       "      <td>18</td>\n",
       "      <td>25</td>\n",
       "      <td>5</td>\n",
       "      <td>36.321346</td>\n",
       "      <td>0</td>\n",
       "    </tr>\n",
       "  </tbody>\n",
       "</table>\n",
       "</div>"
      ],
      "text/plain": [
       "    Mouse ID Drug Regimen     Sex  Age_months  Weight (g)  Timepoint  \\\n",
       "669     c326    Infubinol  Female          18          25          5   \n",
       "\n",
       "     Tumor Volume (mm3)  Metastatic Sites  \n",
       "669           36.321346                 0  "
      ]
     },
     "metadata": {},
     "output_type": "display_data"
    },
    {
     "name": "stdout",
     "output_type": "stream",
     "text": [
      "Ceftamin\n",
      "The median is: 59.85.\n",
      "The IQR is: 15.58\n",
      "The upper threshold for an outlier is: 87.67.\n",
      "The lower threshold for an outlier is: 25.36.\n",
      "There are no outliers\n",
      "\n"
     ]
    }
   ],
   "source": [
    "# Calculate the final tumor volume of each mouse across four of the most promising treatment regimens: Capomulin, Ramicane, Infubinol, and Ceftamin. \n",
    "# Calculate the quartiles and IQR and quantitatively determine if there are any potential outliers across all four treatment regimens.\n",
    "\n",
    "# Subset the DataFrames into Series containing final Tumor Volume data for each Drug Regimen\n",
    "Capomulin_maxtp_df = mice_merge_maxtp_culled.loc[mice_merge_maxtp_culled[\"Drug Regimen\"] == \"Capomulin\"]\n",
    "Capomulin_maxtp_tv = Capomulin_maxtp_df[\"Tumor Volume (mm3)\"]\n",
    "\n",
    "Ramicane_maxtp_df = mice_merge_maxtp_culled.loc[mice_merge_maxtp_culled[\"Drug Regimen\"] == \"Ramicane\"]\n",
    "Ramicane_maxtp_tv = Ramicane_maxtp_df[\"Tumor Volume (mm3)\"]\n",
    "\n",
    "Infubinol_maxtp_df = mice_merge_maxtp_culled.loc[mice_merge_maxtp_culled[\"Drug Regimen\"] == \"Infubinol\"]\n",
    "Infubinol_maxtp_tv = Infubinol_maxtp_df[\"Tumor Volume (mm3)\"]\n",
    "\n",
    "Ceftamin_maxtp_df = mice_merge_maxtp_culled.loc[mice_merge_maxtp_culled[\"Drug Regimen\"] == \"Ceftamin\"]\n",
    "Ceftamin_maxtp_tv = Ceftamin_maxtp_df[\"Tumor Volume (mm3)\"]\n",
    "\n",
    "\n",
    "# Write function to calculate quartiles and detect outliers\n",
    "\n",
    "def outlier(your_series, your_df):\n",
    "    your_quarts = your_series.quantile([0.25, 0.50, 0.75])\n",
    "    your_IQR = your_quarts[0.75] - your_quarts[0.25]\n",
    "    U_thresh = your_quarts[0.75] + (1.5 * your_IQR)\n",
    "    L_thresh = your_quarts[0.25] - (1.5 * your_IQR)\n",
    "    print(f\"The median is: {round(your_quarts[0.50],2)}.\")\n",
    "    print(f\"The IQR is: {round(your_IQR, 2)}\")\n",
    "    print(f\"The upper threshold for an outlier is: {round(U_thresh, 2)}.\")\n",
    "    print(f\"The lower threshold for an outlier is: {round(L_thresh, 2)}.\")\n",
    "    index_list_upper = your_series[your_series > U_thresh].index.to_list()\n",
    "    index_list_lower = your_series[your_series < L_thresh].index.to_list()\n",
    "    index_list = index_list_upper + index_list_lower\n",
    "    if len(index_list) == 0:\n",
    "        print(\"There are no outliers\\n\")\n",
    "    else:\n",
    "        outlier_df = your_df.loc[index_list, :]\n",
    "        print(f\"Number of outliers: {len(outlier_df)}\\n\")\n",
    "        display(outlier_df)\n",
    "\n",
    "print(\"Capomulin\")\n",
    "outlier(Capomulin_maxtp_tv, mice_merge_maxtp_culled)\n",
    "\n",
    "print(\"Ramicane\")\n",
    "outlier(Ramicane_maxtp_tv, mice_merge_maxtp_culled)\n",
    "\n",
    "print(\"Infubinol\")\n",
    "outlier(Infubinol_maxtp_tv, mice_merge_maxtp_culled)\n",
    "\n",
    "print(\"Ceftamin\")\n",
    "outlier(Ceftamin_maxtp_tv, mice_merge_maxtp_culled)    "
   ]
  },
  {
   "cell_type": "code",
   "execution_count": 18,
   "metadata": {},
   "outputs": [
    {
     "data": {
      "image/png": "[encoded data removed]",
      "text/plain": [
       "<Figure size 432x288 with 1 Axes>"
      ]
     },
     "metadata": {
      "needs_background": "light"
     },
     "output_type": "display_data"
    }
   ],
   "source": [
    "# Generate a box plot of the final tumor volume of each mouse across four regimens of interest\n",
    "\n",
    "drugs_list_of_lists = [Capomulin_maxtp_tv, Ramicane_maxtp_tv, Infubinol_maxtp_tv, Ceftamin_maxtp_tv]\n",
    "drug_names = [\"Capomulin\", \"Ramicane\", \"Infubinol\", \"Ceftamin\"]\n",
    "\n",
    "red_circle = dict(markerfacecolor='r', marker='o')\n",
    "plt.boxplot(drugs_list_of_lists, labels = drug_names, flierprops = red_circle)\n",
    "plt.ylabel(\"Final Tumor Volume (mm3)\")\n",
    "plt.show()"
   ]
  },
  {
   "cell_type": "markdown",
   "metadata": {},
   "source": [
    "## Line and Scatter Plots"
   ]
  },
  {
   "cell_type": "code",
   "execution_count": 17,
   "metadata": {},
   "outputs": [
    {
     "data": {
      "image/png": "[encoded data removed]",
      "text/plain": [
       "<Figure size 432x288 with 1 Axes>"
      ]
     },
     "metadata": {
      "needs_background": "light"
     },
     "output_type": "display_data"
    }
   ],
   "source": [
    "# Generate a line plot of tumor volume vs. time point for a mouse treated with Capomulin\n",
    "\n",
    "# Let's do female mouse s185\n",
    "\n",
    "s185_df = mice_merge_cleaned.loc[mice_merge_cleaned[\"Mouse ID\"] == \"s185\", :]\n",
    "s185_tp = s185_df[\"Timepoint\"].to_list()\n",
    "s185_tv = s185_df[\"Tumor Volume (mm3)\"].to_list()\n",
    "\n",
    "plt.plot(s185_tp, s185_tv, color = \"red\")\n",
    "plt.grid()\n",
    "plt.xticks(s185_tp)\n",
    "plt.xlabel(\"Timepoint (s)\")\n",
    "plt.ylabel(\"Final Tumor Volume (mm3)\")\n",
    "plt.title(\"Mouse s185\")\n",
    "plt.show()"
   ]
  },
  {
   "cell_type": "code",
   "execution_count": 78,
   "metadata": {},
   "outputs": [
    {
     "data": {
      "image/png": "[encoded data removed]",
      "text/plain": [
       "<Figure size 432x288 with 1 Axes>"
      ]
     },
     "metadata": {
      "needs_background": "light"
     },
     "output_type": "display_data"
    }
   ],
   "source": [
    "# Generate a scatter plot of average tumor volume vs. mouse weight for the Capomulin regimen\n",
    "\n",
    "# Obtain vector of weights for each unique mouse\n",
    "mice_merge_maxtp_Capomulin = mice_merge_maxtp.loc[mice_merge_maxtp[\"Drug Regimen\"] == \"Capomulin\"]\n",
    "mice_merge_Capomulin_weight = mice_merge_maxtp_Capomulin[\"Weight (g)\"].to_list()\n",
    "\n",
    "# Obtain vector of mean Tumor Volume for mouse that were treated with Capomulin\n",
    "mice_merge_cleaned_Capomulin = mice_merge_cleaned.loc[mice_merge_cleaned[\"Drug Regimen\"] == \"Capomulin\"]\n",
    "mean_tv_Cap = mice_merge_cleaned_Capomulin.groupby(\"Mouse ID\")[\"Tumor Volume (mm3)\"].mean().to_list()\n",
    "\n",
    "# Rebuild dataframe for next several steps\n",
    "\n",
    "Capomulin_df = pd.DataFrame({\"Mean Tumor Volume (mm3)\": mean_tv_Cap, \n",
    "                             \"Weight (g)\": mice_merge_Capomulin_weight})\n",
    "\n",
    "\n",
    "plt.scatter(Capomulin_df[\"Weight (g)\"], \n",
    "            Capomulin_df[\"Mean Tumor Volume (mm3)\"],\n",
    "            facecolors=\"lime\", \n",
    "            edgecolors=\"black\")\n",
    "            \n",
    "plt.xlabel(\"Mouse Weight (g)\")\n",
    "plt.ylabel(\"Mean Tumor Volume (mm3)\")\n",
    "plt.title(\"Capomulin Treated Mice\")\n",
    "plt.show()"
   ]
  },
  {
   "cell_type": "markdown",
   "metadata": {},
   "source": [
    "## Correlation and Regression"
   ]
  },
  {
   "cell_type": "code",
   "execution_count": 79,
   "metadata": {},
   "outputs": [
    {
     "name": "stdout",
     "output_type": "stream",
     "text": [
      "The correlation between both factors is 0.84\n"
     ]
    },
    {
     "data": {
      "image/png": "[encoded data removed]",
      "text/plain": [
       "<Figure size 432x288 with 1 Axes>"
      ]
     },
     "metadata": {
      "needs_background": "light"
     },
     "output_type": "display_data"
    },
    {
     "data": {
      "text/html": [
       "<div>\n",
       "<style scoped>\n",
       "    .dataframe tbody tr th:only-of-type {\n",
       "        vertical-align: middle;\n",
       "    }\n",
       "\n",
       "    .dataframe tbody tr th {\n",
       "        vertical-align: top;\n",
       "    }\n",
       "\n",
       "    .dataframe thead th {\n",
       "        text-align: right;\n",
       "    }\n",
       "</style>\n",
       "<table border=\"1\" class=\"dataframe\">\n",
       "  <thead>\n",
       "    <tr style=\"text-align: right;\">\n",
       "      <th></th>\n",
       "      <th>Beta Coeffient</th>\n",
       "      <th>Standard Error</th>\n",
       "      <th>P_value</th>\n",
       "    </tr>\n",
       "  </thead>\n",
       "  <tbody>\n",
       "    <tr>\n",
       "      <th>0</th>\n",
       "      <td>0.95444</td>\n",
       "      <td>0.127544</td>\n",
       "      <td>1.322572e-07</td>\n",
       "    </tr>\n",
       "  </tbody>\n",
       "</table>\n",
       "</div>"
      ],
      "text/plain": [
       "   Beta Coeffient  Standard Error       P_value\n",
       "0         0.95444        0.127544  1.322572e-07"
      ]
     },
     "metadata": {},
     "output_type": "display_data"
    }
   ],
   "source": [
    "# Calculate the correlation coefficient and linear regression model \n",
    "# for mouse weight and average tumor volume for the Capomulin regimen\n",
    "\n",
    "from scipy.stats import linregress\n",
    "\n",
    "correlation = st.pearsonr(Capomulin_df[\"Weight (g)\"], Capomulin_df[\"Mean Tumor Volume (mm3)\"])\n",
    "print(f\"The correlation between both factors is {round(correlation[0],2)}\")\n",
    "\n",
    "x_values = Capomulin_df[\"Weight (g)\"]\n",
    "y_values = Capomulin_df[\"Mean Tumor Volume (mm3)\"]\n",
    "\n",
    "(slope, intercept, rvalue, pvalue, stderr) = linregress(x_values, y_values)\n",
    "regress_values = x_values * slope + intercept\n",
    "line_eq = \"y = \" + str(round(slope,2)) + \"x + \" + str(round(intercept,2))\n",
    "plt.scatter(x_values, y_values, facecolors=\"lime\", edgecolors=\"black\")\n",
    "plt.plot(x_values, regress_values,\"r-\")\n",
    "plt.annotate(line_eq,(20,36), fontsize=15, color=\"red\")\n",
    "plt.xlabel(\"Mouse Weight (g)\")\n",
    "plt.ylabel(\"Mean Tumor Volume (mm3)\")\n",
    "plt.title(\"Capomulin Treated Mice\")\n",
    "plt.show()\n",
    "\n",
    "regression_table = pd.DataFrame({\"Beta Coeffient\": [slope],\n",
    "                                 \"Standard Error\": [stderr],\n",
    "                                 \"P_value\": [pvalue]})\n",
    "\n",
    "display(regression_table)\n"
   ]
  },
  {
   "cell_type": "code",
   "execution_count": null,
   "metadata": {},
   "outputs": [],
   "source": []
  }
 ],
 "metadata": {
  "anaconda-cloud": {},
  "kernelspec": {
   "display_name": "Python [conda env:PythonData] *",
   "language": "python",
   "name": "conda-env-PythonData-py"
  },
  "language_info": {
   "codemirror_mode": {
    "name": "ipython",
    "version": 3
   },
   "file_extension": ".py",
   "mimetype": "text/x-python",
   "name": "python",
   "nbconvert_exporter": "python",
   "pygments_lexer": "ipython3",
   "version": "3.6.10"
  }
 },
 "nbformat": 4,
 "nbformat_minor": 4
}
